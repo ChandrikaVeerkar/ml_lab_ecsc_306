{
 "cells": [
  {
   "cell_type": "code",
   "execution_count": 1,
   "metadata": {},
   "outputs": [
    {
     "name": "stdout",
     "output_type": "stream",
     "text": [
      "16\n"
     ]
    }
   ],
   "source": [
    "import tensorflow as tf\n",
    "a = 9\n",
    "b = 3\n",
    "c = 2\n",
    "d = tf.multiply(a, a,)\n",
    "e = tf.multiply(b, b,)\n",
    "f = tf.multiply(c, c,)\n",
    "g = tf.add(d,e,)\n",
    "h = tf.add(f,g,)\n",
    "i = tf.multiply(2,tf.multiply(a,b,))\n",
    "j = tf.multiply(2,tf.multiply(c,a,))\n",
    "k = tf.multiply(2,tf.multiply(b,c,))\n",
    "l = tf.subtract(h,i,)\n",
    "m = tf.subtract(l,j,)\n",
    "n = tf.add(m,k,)\n",
    "\n",
    "with tf.Session() as sess:\n",
    "    writer = tf.summary.FileWriter(\"/tmp/tboard/outputb\", sess.graph)\n",
    "    print(sess.run(n))\n",
    "    writer.close()"
   ]
  },
  {
   "cell_type": "code",
   "execution_count": null,
   "metadata": {
    "collapsed": true
   },
   "outputs": [],
   "source": []
  },
  {
   "cell_type": "code",
   "execution_count": null,
   "metadata": {
    "collapsed": true
   },
   "outputs": [],
   "source": []
  }
 ],
 "metadata": {
  "kernelspec": {
   "display_name": "Python 3",
   "language": "python",
   "name": "python3"
  },
  "language_info": {
   "codemirror_mode": {
    "name": "ipython",
    "version": 3
   },
   "file_extension": ".py",
   "mimetype": "text/x-python",
   "name": "python",
   "nbconvert_exporter": "python",
   "pygments_lexer": "ipython3",
   "version": "3.6.1"
  }
 },
 "nbformat": 4,
 "nbformat_minor": 2
}
